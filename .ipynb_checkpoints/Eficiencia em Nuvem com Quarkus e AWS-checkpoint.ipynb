{
 "cells": [
  {
   "cell_type": "markdown",
   "id": "65e254b4",
   "metadata": {},
   "source": [
    "# Eficiencia em Nuvem com Quarkus e AWS"
   ]
  },
  {
   "cell_type": "markdown",
   "id": "549f0765",
   "metadata": {},
   "source": [
    "## Hello Notebooks"
   ]
  },
  {
   "cell_type": "code",
   "execution_count": 5,
   "id": "87f49464",
   "metadata": {},
   "outputs": [],
   "source": [
    "import this"
   ]
  },
  {
   "cell_type": "code",
   "execution_count": 6,
   "id": "34a73488",
   "metadata": {
    "scrolled": true
   },
   "outputs": [
    {
     "name": "stdout",
     "output_type": "stream",
     "text": [
      "Linux jufaerma.remote.csb 4.18.0-240.22.1.el8_3.x86_64 #1 SMP Thu Mar 25 14:36:04 EDT 2021 x86_64 x86_64 x86_64 GNU/Linux\r\n"
     ]
    }
   ],
   "source": [
    "! uname -a"
   ]
  },
  {
   "cell_type": "markdown",
   "id": "ab9001b7",
   "metadata": {},
   "source": [
    "## Hello Telemo"
   ]
  },
  {
   "cell_type": "code",
   "execution_count": 7,
   "id": "04093e53",
   "metadata": {},
   "outputs": [
    {
     "name": "stdout",
     "output_type": "stream",
     "text": [
      "/home/jufaerma/Dev/telemetry-demo\r\n"
     ]
    }
   ],
   "source": [
    "!pwd"
   ]
  },
  {
   "cell_type": "markdown",
   "id": "5eb002d4",
   "metadata": {},
   "source": [
    "```\n",
    "export MYSQL_ROOT_PASSWORD=Masterkey321\n",
    "export MYSQL_HOST=localhost\n",
    "export MYSQL_PORT=3334\n",
    "export MYSQL_DB=telemo-db\n",
    "export QUARKUS_DATASOURCE_JDBC_URL=jdbc:mysql://${MYSQL_HOST}:${MYSQL_PORT}/${MYSQL_DB}\n",
    "export QUARKUS_DATASOURCE_DB_KIND=mysql\n",
    "export QUARKUS_DATASOURCE_USERNAME=root\n",
    "export QUARKUS_DATASOURCE_PASSWORD=Masterkey321\n",
    "export QUARKUS_HIBERNATE_ORM_DATABASE_GENERATION=update\n",
    "\n",
    "echo \"$QUARKUS_DATASOURCE_JDBC_URL\"\n",
    "```"
   ]
  },
  {
   "cell_type": "markdown",
   "id": "1d994991",
   "metadata": {},
   "source": [
    "# MySQL"
   ]
  },
  {
   "cell_type": "markdown",
   "id": "a5bc98ad",
   "metadata": {},
   "source": [
    "```\n",
    "docker run --rm -p 0.0.0.0:$MYSQL_PORT:3306 \\\n",
    "    --name telemo-mysql \\\n",
    "    -e MYSQL_ROOT_PASSWORD=$MYSQL_ROOT_PASSWORD \\\n",
    "    -e MYSQL_DATABASE=telemo-db \\\n",
    "    -d mysql:latest\n",
    "```"
   ]
  },
  {
   "cell_type": "code",
   "execution_count": 42,
   "id": "c99ad722",
   "metadata": {},
   "outputs": [
    {
     "name": "stdout",
     "output_type": "stream",
     "text": [
      "CONTAINER ID   IMAGE          COMMAND                  CREATED              STATUS              PORTS                               NAMES\r\n",
      "827df10a6807   mysql:latest   \"docker-entrypoint.s…\"   About a minute ago   Up About a minute   33060/tcp, 0.0.0.0:3334->3306/tcp   telemo-mysql\r\n"
     ]
    }
   ],
   "source": [
    "!docker container ls"
   ]
  },
  {
   "cell_type": "markdown",
   "id": "b9ee9171",
   "metadata": {},
   "source": [
    "```mysql --host=127.0.0.1 --port=$MYSQL_PORT -uroot -p$MYSQL_ROOT_PASSWORD```"
   ]
  },
  {
   "cell_type": "code",
   "execution_count": 45,
   "id": "f6333454",
   "metadata": {},
   "outputs": [
    {
     "name": "stdout",
     "output_type": "stream",
     "text": [
      "mysql: [Warning] Using a password on the command line interface can be insecure.\n",
      "+--------------------+\n",
      "| Database           |\n",
      "+--------------------+\n",
      "| information_schema |\n",
      "| mysql              |\n",
      "| performance_schema |\n",
      "| sys                |\n",
      "| telemo-db          |\n",
      "+--------------------+\n"
     ]
    }
   ],
   "source": [
    "!mysql --host=127.0.0.1 --port=$MYSQL_PORT -uroot -p$MYSQL_ROOT_PASSWORD -e\"show databases\""
   ]
  },
  {
   "cell_type": "markdown",
   "id": "b6e48131",
   "metadata": {},
   "source": [
    "# Dev Mode"
   ]
  },
  {
   "cell_type": "markdown",
   "id": "ed677bab",
   "metadata": {},
   "source": [
    "```\n",
    "mvn -f telemo-quarkus/pom.xml clean compile quarkus:dev\n",
    "```"
   ]
  },
  {
   "cell_type": "markdown",
   "id": "5c6cc1f4",
   "metadata": {},
   "source": [
    "[Device Home](http://localhost:8080)\n",
    "\n",
    "[Device Admin](http://localhost:8080/admin.html)"
   ]
  },
  {
   "cell_type": "markdown",
   "id": "05a191d8",
   "metadata": {},
   "source": [
    "## Hello Cloud (AWS)"
   ]
  },
  {
   "cell_type": "markdown",
   "id": "4459b3d4",
   "metadata": {},
   "source": [
    "### Balancing the Cost vs Features in Compute\n",
    "\n",
    "[AWS EC2 On-Demmand Pricing](https://aws.amazon.com/ec2/pricing/on-demand/)\n",
    "\n",
    "[AWS Fargate Pricing](https://aws.amazon.com/fargate/pricing/)\n",
    "\n",
    "[AWS Lambda Pricing](https://aws.amazon.com/lambda/pricing/)\n"
   ]
  },
  {
   "cell_type": "markdown",
   "id": "eca03b8f",
   "metadata": {},
   "source": [
    "## Hello Cold Starts\n",
    "\n",
    "[Understanding container reuse in AWS Lambda](https://aws.amazon.com/blogs/compute/container-reuse-in-lambda/#:~:text=AWS%20Lambda%20functions%20execute%20in,specified%20in%20the%20function's%20configuration.)\n",
    "\n",
    "[Analyzing Cold Start latency of AWS Lambda](https://blog.symphonia.io/posts/2020-06-30_analyzing_cold_start_latency_of_aws_lambda)\n",
    "\n",
    "[Cold Starts in AWS Lambda](https://mikhail.io/serverless/coldstarts/aws/)"
   ]
  },
  {
   "cell_type": "markdown",
   "id": "829ddbe7",
   "metadata": {},
   "source": [
    "## Hello Gatling"
   ]
  },
  {
   "cell_type": "markdown",
   "id": "af22ed38",
   "metadata": {},
   "source": [
    "[Open vs. Closed Workloads](https://gatling.io/2018/10/04/gatling-3-closed-workload-model-support/)"
   ]
  },
  {
   "cell_type": "markdown",
   "id": "edcd33e0",
   "metadata": {},
   "source": [
    "```\n",
    "mvn -f telemo-gatling/pom.xml clean compile \n",
    "```"
   ]
  },
  {
   "cell_type": "markdown",
   "id": "8166b274",
   "metadata": {},
   "source": [
    "### Fire at Localhost"
   ]
  },
  {
   "cell_type": "markdown",
   "id": "7022c24c",
   "metadata": {},
   "source": [
    "### Fire at EC2"
   ]
  },
  {
   "cell_type": "markdown",
   "id": "574355ea",
   "metadata": {},
   "source": [
    "### Fire at Fargate"
   ]
  },
  {
   "cell_type": "markdown",
   "id": "be1b131b",
   "metadata": {},
   "source": [
    "### Fire at Lambda"
   ]
  },
  {
   "cell_type": "markdown",
   "id": "725f0fcc",
   "metadata": {},
   "source": [
    "### Fire at Lambda (Native)"
   ]
  },
  {
   "cell_type": "markdown",
   "id": "36b5b74b",
   "metadata": {},
   "source": [
    "## Conclusion"
   ]
  }
 ],
 "metadata": {
  "kernelspec": {
   "display_name": "Python 3",
   "language": "python",
   "name": "python3"
  },
  "language_info": {
   "codemirror_mode": {
    "name": "ipython",
    "version": 3
   },
   "file_extension": ".py",
   "mimetype": "text/x-python",
   "name": "python",
   "nbconvert_exporter": "python",
   "pygments_lexer": "ipython3",
   "version": "3.9.5"
  }
 },
 "nbformat": 4,
 "nbformat_minor": 5
}
