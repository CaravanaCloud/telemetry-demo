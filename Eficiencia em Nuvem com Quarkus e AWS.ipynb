{
 "cells": [
  {
   "cell_type": "markdown",
   "id": "d6dac039",
   "metadata": {},
   "source": [
    "# Eficiencia em Nuvem com Quarkus e AWS"
   ]
  },
  {
   "cell_type": "markdown",
   "id": "1bb73640",
   "metadata": {},
   "source": [
    "## Hello Notebooks"
   ]
  },
  {
   "cell_type": "code",
   "execution_count": 5,
   "id": "62d4ad1e",
   "metadata": {},
   "outputs": [],
   "source": [
    "import this"
   ]
  },
  {
   "cell_type": "code",
   "execution_count": 6,
   "id": "2a88eae0",
   "metadata": {
    "scrolled": true
   },
   "outputs": [
    {
     "name": "stdout",
     "output_type": "stream",
     "text": [
      "Linux jufaerma.remote.csb 4.18.0-240.22.1.el8_3.x86_64 #1 SMP Thu Mar 25 14:36:04 EDT 2021 x86_64 x86_64 x86_64 GNU/Linux\r\n"
     ]
    }
   ],
   "source": [
    "! uname -a"
   ]
  },
  {
   "cell_type": "markdown",
   "id": "07d2111f",
   "metadata": {},
   "source": [
    "## Hello Telemo"
   ]
  },
  {
   "cell_type": "code",
   "execution_count": 7,
   "id": "914e53f5",
   "metadata": {},
   "outputs": [
    {
     "name": "stdout",
     "output_type": "stream",
     "text": [
      "/home/jufaerma/Dev/telemetry-demo\r\n"
     ]
    }
   ],
   "source": [
    "!pwd"
   ]
  },
  {
   "cell_type": "markdown",
   "id": "f6e6f1c3",
   "metadata": {},
   "source": [
    "```\n",
    "export MYSQL_ROOT_PASSWORD=Masterkey321\n",
    "export MYSQL_HOST=localhost\n",
    "export MYSQL_PORT=3334\n",
    "export MYSQL_DB=telemo-db\n",
    "export QUARKUS_DATASOURCE_JDBC_URL=jdbc:mysql://${MYSQL_HOST}:${MYSQL_PORT}/${MYSQL_DB}\n",
    "export QUARKUS_DATASOURCE_DB_KIND=mysql\n",
    "export QUARKUS_DATASOURCE_USERNAME=root\n",
    "export QUARKUS_DATASOURCE_PASSWORD=Masterkey321\n",
    "export QUARKUS_HIBERNATE_ORM_DATABASE_GENERATION=update\n",
    "\n",
    "echo \"$QUARKUS_DATASOURCE_JDBC_URL\"\n",
    "```"
   ]
  },
  {
   "cell_type": "markdown",
   "id": "87ec0340",
   "metadata": {},
   "source": [
    "# MySQL"
   ]
  },
  {
   "cell_type": "markdown",
   "id": "0bdfe00b",
   "metadata": {},
   "source": [
    "```\n",
    "docker run --rm -p 0.0.0.0:$MYSQL_PORT:3306 \\\n",
    "    --name telemo-mysql \\\n",
    "    -e MYSQL_ROOT_PASSWORD=$MYSQL_ROOT_PASSWORD \\\n",
    "    -e MYSQL_DATABASE=telemo-db \\\n",
    "    -d mysql:latest\n",
    "```"
   ]
  },
  {
   "cell_type": "code",
   "execution_count": 42,
   "id": "94962109",
   "metadata": {},
   "outputs": [
    {
     "name": "stdout",
     "output_type": "stream",
     "text": [
      "CONTAINER ID   IMAGE          COMMAND                  CREATED              STATUS              PORTS                               NAMES\r\n",
      "827df10a6807   mysql:latest   \"docker-entrypoint.s…\"   About a minute ago   Up About a minute   33060/tcp, 0.0.0.0:3334->3306/tcp   telemo-mysql\r\n"
     ]
    }
   ],
   "source": [
    "!docker container ls"
   ]
  },
  {
   "cell_type": "markdown",
   "id": "c2516e06",
   "metadata": {},
   "source": [
    "```mysql --host=127.0.0.1 --port=$MYSQL_PORT -uroot -p$MYSQL_ROOT_PASSWORD```"
   ]
  },
  {
   "cell_type": "code",
   "execution_count": 45,
   "id": "f64f5da8",
   "metadata": {},
   "outputs": [
    {
     "name": "stdout",
     "output_type": "stream",
     "text": [
      "mysql: [Warning] Using a password on the command line interface can be insecure.\n",
      "+--------------------+\n",
      "| Database           |\n",
      "+--------------------+\n",
      "| information_schema |\n",
      "| mysql              |\n",
      "| performance_schema |\n",
      "| sys                |\n",
      "| telemo-db          |\n",
      "+--------------------+\n"
     ]
    }
   ],
   "source": [
    "!mysql --host=127.0.0.1 --port=$MYSQL_PORT -uroot -p$MYSQL_ROOT_PASSWORD -e\"show databases\""
   ]
  },
  {
   "cell_type": "markdown",
   "id": "b8bd3fe0",
   "metadata": {},
   "source": [
    "# Dev Mode"
   ]
  },
  {
   "cell_type": "markdown",
   "id": "0165cc1b",
   "metadata": {},
   "source": [
    "```\n",
    "mvn -f telemo-quarkus/pom.xml clean compile quarkus:dev\n",
    "```"
   ]
  },
  {
   "cell_type": "markdown",
   "id": "18843dd6",
   "metadata": {},
   "source": [
    "[Device Home](http://localhost:8080)\n",
    "\n",
    "[Device Admin](http://localhost:8080/admin.html)"
   ]
  },
  {
   "cell_type": "markdown",
   "id": "32a75d70",
   "metadata": {},
   "source": [
    "## Hello Cloud (AWS)"
   ]
  },
  {
   "cell_type": "markdown",
   "id": "9801e1ed",
   "metadata": {},
   "source": [
    "### Balancing the Cost vs Features in Compute\n",
    "\n",
    "[AWS EC2 On-Demmand Pricing](https://aws.amazon.com/ec2/pricing/on-demand/)\n",
    "\n",
    "[AWS Fargate Pricing](https://aws.amazon.com/fargate/pricing/)\n",
    "\n",
    "[AWS Lambda Pricing](https://aws.amazon.com/lambda/pricing/)\n"
   ]
  },
  {
   "cell_type": "markdown",
   "id": "b9e6f06a",
   "metadata": {},
   "source": [
    "## Hello Cold Starts\n",
    "\n",
    "[Understanding container reuse in AWS Lambda](https://aws.amazon.com/blogs/compute/container-reuse-in-lambda/#:~:text=AWS%20Lambda%20functions%20execute%20in,specified%20in%20the%20function's%20configuration.)\n",
    "\n",
    "[Analyzing Cold Start latency of AWS Lambda](https://blog.symphonia.io/posts/2020-06-30_analyzing_cold_start_latency_of_aws_lambda)\n",
    "\n",
    "[Cold Starts in AWS Lambda](https://mikhail.io/serverless/coldstarts/aws/)"
   ]
  },
  {
   "cell_type": "markdown",
   "id": "7416c9b4",
   "metadata": {},
   "source": [
    "## Hello Gatling"
   ]
  },
  {
   "cell_type": "markdown",
   "id": "f814e451",
   "metadata": {},
   "source": [
    "[Open vs. Closed Workloads](https://gatling.io/2018/10/04/gatling-3-closed-workload-model-support/)"
   ]
  },
  {
   "cell_type": "markdown",
   "id": "a220908b",
   "metadata": {},
   "source": [
    "```\n",
    "mvn -f telemo-gatling/pom.xml clean compile \n",
    "```"
   ]
  },
  {
   "cell_type": "markdown",
   "id": "0e8b4099",
   "metadata": {},
   "source": [
    "### Fire at Localhost"
   ]
  },
  {
   "cell_type": "markdown",
   "id": "ce622d13",
   "metadata": {},
   "source": [
    "```\n",
    "mvn -f telemo-gatling/pom.xml gatling:test\n",
    "```"
   ]
  },
  {
   "cell_type": "markdown",
   "id": "c667c79d",
   "metadata": {},
   "source": [
    "### Fire at EC2"
   ]
  },
  {
   "cell_type": "markdown",
   "id": "bc8f5c21",
   "metadata": {},
   "source": [
    "### Fire at Fargate"
   ]
  },
  {
   "cell_type": "markdown",
   "id": "0357a183",
   "metadata": {},
   "source": [
    "### Fire at Lambda"
   ]
  },
  {
   "cell_type": "markdown",
   "id": "6bd91ac3",
   "metadata": {},
   "source": [
    "### Fire at Lambda (Native)"
   ]
  },
  {
   "cell_type": "markdown",
   "id": "e5f3227a",
   "metadata": {},
   "source": [
    "## Conclusion"
   ]
  }
 ],
 "metadata": {
  "kernelspec": {
   "display_name": "Python 3",
   "language": "python",
   "name": "python3"
  },
  "language_info": {
   "codemirror_mode": {
    "name": "ipython",
    "version": 3
   },
   "file_extension": ".py",
   "mimetype": "text/x-python",
   "name": "python",
   "nbconvert_exporter": "python",
   "pygments_lexer": "ipython3",
   "version": "3.9.5"
  }
 },
 "nbformat": 4,
 "nbformat_minor": 5
}
